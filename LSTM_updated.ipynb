{
 "cells": [
  {
   "cell_type": "code",
   "execution_count": 1,
   "metadata": {},
   "outputs": [],
   "source": [
    "import torch\n",
    "import numpy as np\n",
    "import torch.nn as nn\n",
    "import torch.nn.functional as F\n",
    "import torch.utils.data as data\n",
    "from torch.utils.data import Dataset\n",
    "from torch.utils.data import DataLoader\n",
    "import torch.optim.lr_scheduler as lr_scheduler\n",
    "\n",
    "# Dependencies for data extraction\n",
    "import netCDF4 as NC\n",
    "import glob\n",
    "from matplotlib import pyplot as plt\n",
    "import os\n",
    "import pandas as pd\n",
    "\n",
    "from torchvision import transforms"
   ]
  },
  {
   "cell_type": "code",
   "execution_count": 2,
   "metadata": {},
   "outputs": [],
   "source": [
    "path = \"C:/Users/ASUS/OneDrive - Indian Institute of Technology Bombay/Machine Learning/ML projects/SLP/data\"\n",
    "temporary = os.listdir(path)\n",
    "data_files = glob.glob(path+os.sep+'hyd_temp_*.nc')\n",
    "\n",
    "A=[]\n",
    "U=[]\n",
    "\n",
    "time = np.empty([0])\n",
    "Temperature_values_loc = np.empty([0])\n",
    "a_smallest = 321768\n",
    "u_smallest = 321768\n",
    "\n",
    "for i in range(len(data_files)):\n",
    "    Data_filename = NC.Dataset(data_files[i],'r')\n",
    "    time = np.append(time, Data_filename['time'])\n",
    "    # print(Data_filename['plevel'][0])\n",
    "    if i%2==0:\n",
    "      #Temperature_values_loc_a = np.append(Temperature_values_loc_a, Data_filename['TMP_prl'][:,0,1,1])\n",
    "      #time_a = np.append(time_a, Data_filename['time'])\n",
    "      A.append(Data_filename['TMP_prl'][:,0,1,1])\n",
    "\n",
    "      a_smallest = min(a_smallest,len(A[-1]))\n",
    "\n",
    "    else:\n",
    "      # Temperature_values_loc_u = np.append(Temperature_values_loc_u, Data_filename['TMP_prl'][:,0,1,1])\n",
    "      # time_u = np.append(time_u, Data_filename['time'])\n",
    "      U.append(Data_filename['TMP_prl'][:,0,1,1])\n",
    "\n",
    "      u_smallest = min(u_smallest, len(U[-1])) \n",
    "\n",
    "#temp_data = list(zip(time,Temperature_values_loc))\n",
    "#temp_df=pd.DataFrame(temp_data ,columns=[\"time\",\"Temperature\"])\n",
    "\n",
    "# for month:-\n",
    "a_month=[]\n",
    "u_month=[]\n",
    "\n",
    "# A=np.array(A)\n",
    "# U=np.array(U)\n",
    "\n",
    "temp1=A[:][:2880]\n",
    "temp2=U[:][:2880]\n",
    "\n",
    "a_num=0\n",
    "u_num=0\n",
    "\n",
    "for i in range(16):\n",
    "  if i%2==0:\n",
    "    for j in range(12):\n",
    "      if j%2==0:\n",
    "        a_month.append(temp1[a_num][240*j:240*(j+1)])\n",
    "            \n",
    "      else:\n",
    "        u_month.append(temp1[a_num][240*j:240*(j+1)])\n",
    "      \n",
    "    a_num=a_num + 1\n",
    "\n",
    "  else:\n",
    "    for j in range(12):\n",
    "      if j%2==0:\n",
    "        a_month.append(temp2[u_num][240*j:240*(j+1)])\n",
    "    \n",
    "      else:\n",
    "        u_month.append(temp2[u_num][240*j:240*(j+1)])\n",
    "\n",
    "    u_num=u_num+1\n",
    "\n",
    "a_month=np.array(a_month)\n",
    "u_month=np.array(u_month)"
   ]
  },
  {
   "cell_type": "code",
   "execution_count": 3,
   "metadata": {},
   "outputs": [],
   "source": [
    "# Preparing Dataframe\n",
    "temp=[]\n",
    "\n",
    "for i in range(8):\n",
    "    temp.append(A[i])\n",
    "    temp.append(U[i])\n",
    "\n",
    "temp=[item for sublist in temp for item in sublist]\n",
    "temp=np.array(temp)\n",
    "\n",
    "Time=np.array([item for item in time])\n",
    "\n",
    "df = pd.DataFrame({'Temp(K)': temp, 'Time': Time})"
   ]
  },
  {
   "cell_type": "code",
   "execution_count": 4,
   "metadata": {},
   "outputs": [
    {
     "data": {
      "text/html": [
       "<div>\n",
       "<style scoped>\n",
       "    .dataframe tbody tr th:only-of-type {\n",
       "        vertical-align: middle;\n",
       "    }\n",
       "\n",
       "    .dataframe tbody tr th {\n",
       "        vertical-align: top;\n",
       "    }\n",
       "\n",
       "    .dataframe thead th {\n",
       "        text-align: right;\n",
       "    }\n",
       "</style>\n",
       "<table border=\"1\" class=\"dataframe\">\n",
       "  <thead>\n",
       "    <tr style=\"text-align: right;\">\n",
       "      <th></th>\n",
       "      <th>Temp(K)</th>\n",
       "      <th>Time</th>\n",
       "    </tr>\n",
       "    <tr>\n",
       "      <th>Time</th>\n",
       "      <th></th>\n",
       "      <th></th>\n",
       "    </tr>\n",
       "  </thead>\n",
       "  <tbody>\n",
       "    <tr>\n",
       "      <th>6.311520e+08</th>\n",
       "      <td>294.323303</td>\n",
       "      <td>6.311520e+08</td>\n",
       "    </tr>\n",
       "    <tr>\n",
       "      <th>6.311628e+08</th>\n",
       "      <td>293.756348</td>\n",
       "      <td>6.311628e+08</td>\n",
       "    </tr>\n",
       "    <tr>\n",
       "      <th>6.311736e+08</th>\n",
       "      <td>295.595245</td>\n",
       "      <td>6.311736e+08</td>\n",
       "    </tr>\n",
       "    <tr>\n",
       "      <th>6.311844e+08</th>\n",
       "      <td>299.542053</td>\n",
       "      <td>6.311844e+08</td>\n",
       "    </tr>\n",
       "    <tr>\n",
       "      <th>6.311952e+08</th>\n",
       "      <td>301.178284</td>\n",
       "      <td>6.311952e+08</td>\n",
       "    </tr>\n",
       "    <tr>\n",
       "      <th>...</th>\n",
       "      <td>...</td>\n",
       "      <td>...</td>\n",
       "    </tr>\n",
       "    <tr>\n",
       "      <th>1.136020e+09</th>\n",
       "      <td>300.306488</td>\n",
       "      <td>1.136020e+09</td>\n",
       "    </tr>\n",
       "    <tr>\n",
       "      <th>1.136030e+09</th>\n",
       "      <td>299.925568</td>\n",
       "      <td>1.136030e+09</td>\n",
       "    </tr>\n",
       "    <tr>\n",
       "      <th>1.136041e+09</th>\n",
       "      <td>297.592316</td>\n",
       "      <td>1.136041e+09</td>\n",
       "    </tr>\n",
       "    <tr>\n",
       "      <th>1.136052e+09</th>\n",
       "      <td>296.301941</td>\n",
       "      <td>1.136052e+09</td>\n",
       "    </tr>\n",
       "    <tr>\n",
       "      <th>1.136063e+09</th>\n",
       "      <td>295.406677</td>\n",
       "      <td>1.136063e+09</td>\n",
       "    </tr>\n",
       "  </tbody>\n",
       "</table>\n",
       "<p>46752 rows × 2 columns</p>\n",
       "</div>"
      ],
      "text/plain": [
       "                 Temp(K)          Time\n",
       "Time                                  \n",
       "6.311520e+08  294.323303  6.311520e+08\n",
       "6.311628e+08  293.756348  6.311628e+08\n",
       "6.311736e+08  295.595245  6.311736e+08\n",
       "6.311844e+08  299.542053  6.311844e+08\n",
       "6.311952e+08  301.178284  6.311952e+08\n",
       "...                  ...           ...\n",
       "1.136020e+09  300.306488  1.136020e+09\n",
       "1.136030e+09  299.925568  1.136030e+09\n",
       "1.136041e+09  297.592316  1.136041e+09\n",
       "1.136052e+09  296.301941  1.136052e+09\n",
       "1.136063e+09  295.406677  1.136063e+09\n",
       "\n",
       "[46752 rows x 2 columns]"
      ]
     },
     "execution_count": 4,
     "metadata": {},
     "output_type": "execute_result"
    }
   ],
   "source": [
    "# Making time as the index \n",
    "df.index = df['Time']\n",
    "df"
   ]
  },
  {
   "cell_type": "code",
   "execution_count": 5,
   "metadata": {},
   "outputs": [],
   "source": [
    "# Creating the x and y labels :- the example is given below\n",
    "# [[[1], [2], [3], [4], [5]]] [6]\n",
    "# [[[2], [3], [4], [5], [6]]] [7]\n",
    "# [[[3], [4], [5], [6], [7]]] [8]\n",
    "\n",
    "def df_to_X_y(df, window_size=5):\n",
    "  df_as_np = df.to_numpy()\n",
    "  X = []\n",
    "  y = []\n",
    "  for i in range(len(df_as_np)-window_size):\n",
    "    row = [[a] for a in df_as_np[i:i+window_size]]\n",
    "    X.append(row)\n",
    "    label = df_as_np[i+window_size]\n",
    "    y.append(label)\n",
    "  return np.array(X), np.array(y)"
   ]
  },
  {
   "cell_type": "code",
   "execution_count": 6,
   "metadata": {},
   "outputs": [],
   "source": [
    "# Normalizing temperature values\n",
    "\n",
    "temp_mean = np.mean(df['Temp(K)'])\n",
    "temp_std = np.std(df['Temp(K)'])\n",
    "\n",
    "df['Temp(K)'] = (df['Temp(K)'] - temp_mean)/temp_std\n",
    "\n",
    "temper = df['Temp(K)']"
   ]
  },
  {
   "cell_type": "code",
   "execution_count": 7,
   "metadata": {},
   "outputs": [
    {
     "data": {
      "text/plain": [
       "((46747, 5, 1), (46747,))"
      ]
     },
     "execution_count": 7,
     "metadata": {},
     "output_type": "execute_result"
    }
   ],
   "source": [
    "WINDOW_SIZE = 5\n",
    "X1, y1 = df_to_X_y(temper, WINDOW_SIZE)\n",
    "X1.shape, y1.shape"
   ]
  },
  {
   "cell_type": "code",
   "execution_count": 8,
   "metadata": {},
   "outputs": [
    {
     "data": {
      "text/plain": [
       "((40000, 5, 1), (40000,), (6747, 5, 1), (6747,))"
      ]
     },
     "execution_count": 8,
     "metadata": {},
     "output_type": "execute_result"
    }
   ],
   "source": [
    "# Split into train, validation and test sets\n",
    "\n",
    "X_train1, y_train1 = X1[:40000], y1[:40000]\n",
    "#X_val1, y_val1 = X1[30000:40000], y1[30000:40000]\n",
    "X_test1, y_test1 = X1[40000:], y1[40000:]\n",
    "X_train1.shape, y_train1.shape, X_test1.shape, y_test1.shape"
   ]
  },
  {
   "cell_type": "code",
   "execution_count": 19,
   "metadata": {},
   "outputs": [
    {
     "data": {
      "text/plain": [
       "torch.Size([5])"
      ]
     },
     "execution_count": 19,
     "metadata": {},
     "output_type": "execute_result"
    }
   ],
   "source": [
    "# X_train1 = np.reshape(X_train1,(-1,len(X_train1)))\n",
    "# X_test1 = np.reshape(X_test1,(-1,len(X_test1)))\n",
    "X_train = torch.tensor(X_train1).reshape([-1,1,5])\n",
    "X_test = torch.tensor(X_test1).reshape([-1,1,5])\n",
    "y_train = torch.tensor(y_train1).reshape([-1,1,1])\n",
    "y_test = torch.tensor(y_test1).reshape([-1,1,1])\n",
    "X_train[1,0].size()"
   ]
  },
  {
   "cell_type": "code",
   "execution_count": 11,
   "metadata": {},
   "outputs": [],
   "source": [
    "class Model1(nn.Module):\n",
    "    def __init__(self):\n",
    "        super().__init__()\n",
    "        self.lstm = nn.LSTM(input_size=5, hidden_size=50, num_layers=1, batch_first=True)\n",
    "        self.linear = nn.Linear(50, 1)\n",
    "\n",
    "    def forward(self, x):\n",
    "        x, _ = self.lstm(x)\n",
    "        x = self.linear(x)\n",
    "        return x\n",
    " \n",
    "model = Model1()\n",
    "optimizer = torch.optim.Adam(model.parameters())\n",
    "loss_fn = nn.MSELoss()\n",
    "train_loader = data.DataLoader((X_train, y_train), shuffle=False, batch_size=1)\n",
    "test_loader = data.DataLoader((X_test, y_test), shuffle=False, batch_size=1)"
   ]
  },
  {
   "cell_type": "code",
   "execution_count": 12,
   "metadata": {},
   "outputs": [
    {
     "ename": "KeyboardInterrupt",
     "evalue": "",
     "output_type": "error",
     "traceback": [
      "\u001b[1;31m---------------------------------------------------------------------------\u001b[0m",
      "\u001b[1;31mKeyboardInterrupt\u001b[0m                         Traceback (most recent call last)",
      "Cell \u001b[1;32mIn[12], line 9\u001b[0m\n\u001b[0;32m      7\u001b[0m     loss \u001b[39m=\u001b[39m loss_fn(y_pred, y_train[batch_size\u001b[39m*\u001b[39mi : \u001b[39mmin\u001b[39m(batch_size\u001b[39m*\u001b[39m(i\u001b[39m+\u001b[39m\u001b[39m1\u001b[39m),\u001b[39mlen\u001b[39m(X_train))])\n\u001b[0;32m      8\u001b[0m     optimizer\u001b[39m.\u001b[39mzero_grad()\n\u001b[1;32m----> 9\u001b[0m     loss\u001b[39m.\u001b[39;49mbackward()\n\u001b[0;32m     10\u001b[0m     optimizer\u001b[39m.\u001b[39mstep()\n\u001b[0;32m     11\u001b[0m \u001b[39m# Validation\u001b[39;00m\n",
      "File \u001b[1;32mc:\\Users\\ASUS\\anaconda3\\envs\\KD\\lib\\site-packages\\torch\\_tensor.py:525\u001b[0m, in \u001b[0;36mTensor.backward\u001b[1;34m(self, gradient, retain_graph, create_graph, inputs)\u001b[0m\n\u001b[0;32m    515\u001b[0m \u001b[39mif\u001b[39;00m has_torch_function_unary(\u001b[39mself\u001b[39m):\n\u001b[0;32m    516\u001b[0m     \u001b[39mreturn\u001b[39;00m handle_torch_function(\n\u001b[0;32m    517\u001b[0m         Tensor\u001b[39m.\u001b[39mbackward,\n\u001b[0;32m    518\u001b[0m         (\u001b[39mself\u001b[39m,),\n\u001b[1;32m   (...)\u001b[0m\n\u001b[0;32m    523\u001b[0m         inputs\u001b[39m=\u001b[39minputs,\n\u001b[0;32m    524\u001b[0m     )\n\u001b[1;32m--> 525\u001b[0m torch\u001b[39m.\u001b[39;49mautograd\u001b[39m.\u001b[39;49mbackward(\n\u001b[0;32m    526\u001b[0m     \u001b[39mself\u001b[39;49m, gradient, retain_graph, create_graph, inputs\u001b[39m=\u001b[39;49minputs\n\u001b[0;32m    527\u001b[0m )\n",
      "File \u001b[1;32mc:\\Users\\ASUS\\anaconda3\\envs\\KD\\lib\\site-packages\\torch\\autograd\\__init__.py:267\u001b[0m, in \u001b[0;36mbackward\u001b[1;34m(tensors, grad_tensors, retain_graph, create_graph, grad_variables, inputs)\u001b[0m\n\u001b[0;32m    262\u001b[0m     retain_graph \u001b[39m=\u001b[39m create_graph\n\u001b[0;32m    264\u001b[0m \u001b[39m# The reason we repeat the same comment below is that\u001b[39;00m\n\u001b[0;32m    265\u001b[0m \u001b[39m# some Python versions print out the first line of a multi-line function\u001b[39;00m\n\u001b[0;32m    266\u001b[0m \u001b[39m# calls in the traceback and some print out the last line\u001b[39;00m\n\u001b[1;32m--> 267\u001b[0m _engine_run_backward(\n\u001b[0;32m    268\u001b[0m     tensors,\n\u001b[0;32m    269\u001b[0m     grad_tensors_,\n\u001b[0;32m    270\u001b[0m     retain_graph,\n\u001b[0;32m    271\u001b[0m     create_graph,\n\u001b[0;32m    272\u001b[0m     inputs,\n\u001b[0;32m    273\u001b[0m     allow_unreachable\u001b[39m=\u001b[39;49m\u001b[39mTrue\u001b[39;49;00m,\n\u001b[0;32m    274\u001b[0m     accumulate_grad\u001b[39m=\u001b[39;49m\u001b[39mTrue\u001b[39;49;00m,\n\u001b[0;32m    275\u001b[0m )\n",
      "File \u001b[1;32mc:\\Users\\ASUS\\anaconda3\\envs\\KD\\lib\\site-packages\\torch\\autograd\\graph.py:744\u001b[0m, in \u001b[0;36m_engine_run_backward\u001b[1;34m(t_outputs, *args, **kwargs)\u001b[0m\n\u001b[0;32m    742\u001b[0m     unregister_hooks \u001b[39m=\u001b[39m _register_logging_hooks_on_whole_graph(t_outputs)\n\u001b[0;32m    743\u001b[0m \u001b[39mtry\u001b[39;00m:\n\u001b[1;32m--> 744\u001b[0m     \u001b[39mreturn\u001b[39;00m Variable\u001b[39m.\u001b[39;49m_execution_engine\u001b[39m.\u001b[39;49mrun_backward(  \u001b[39m# Calls into the C++ engine to run the backward pass\u001b[39;49;00m\n\u001b[0;32m    745\u001b[0m         t_outputs, \u001b[39m*\u001b[39;49margs, \u001b[39m*\u001b[39;49m\u001b[39m*\u001b[39;49mkwargs\n\u001b[0;32m    746\u001b[0m     )  \u001b[39m# Calls into the C++ engine to run the backward pass\u001b[39;00m\n\u001b[0;32m    747\u001b[0m \u001b[39mfinally\u001b[39;00m:\n\u001b[0;32m    748\u001b[0m     \u001b[39mif\u001b[39;00m attach_logging_hooks:\n",
      "\u001b[1;31mKeyboardInterrupt\u001b[0m: "
     ]
    }
   ],
   "source": [
    "n_epochs = 20\n",
    "batch_size = 32\n",
    "for epoch in range(n_epochs):\n",
    "    model.train()\n",
    "    \"\"\"\n",
    "    # For batch training\n",
    "    for i in range(int(len(X_train)/batch_size)):\n",
    "        y_pred = model(X_train[batch_size*i : min(batch_size*(i+1),len(X_train))])\n",
    "        loss = loss_fn(y_pred, y_train[batch_size*i : min(batch_size*(i+1),len(X_train))])\n",
    "        optimizer.zero_grad()\n",
    "        loss.backward()\n",
    "        optimizer.step()\n",
    "    \"\"\"\n",
    "\n",
    "    # For autoregressive type training \n",
    "    next_batch = X_train[0]\n",
    "    for i in range(int(len(X_train))):\n",
    "        y_pred = model(next_batch)\n",
    "        loss = loss_fn(y_pred, y_train[i])\n",
    "        optimizer.zero_grad()\n",
    "        loss.backward()\n",
    "        optimizer.step()  \n",
    "        next_batch = X_train[min(i+1, len(X_train))]\n",
    "        next_batch[0,4] = y_pred\n",
    "\n",
    "    # Validation\n",
    "    if epoch % 5 != 0:\n",
    "        continue\n",
    "    model.eval()\n",
    "    with torch.no_grad():\n",
    "        y_pred = model(X_train)\n",
    "        train_rmse = np.sqrt(loss_fn(y_pred, y_train))\n",
    "        y_pred = model(X_test)\n",
    "        test_rmse = np.sqrt(loss_fn(y_pred, y_test))\n",
    "    print(\"Epoch %d: train RMSE %.4f, test RMSE %.4f\" % (epoch, train_rmse, test_rmse))"
   ]
  },
  {
   "cell_type": "code",
   "execution_count": null,
   "metadata": {},
   "outputs": [
    {
     "data": {
      "image/png": "[encoded data removed]",
      "text/plain": [
       "<Figure size 640x480 with 1 Axes>"
      ]
     },
     "metadata": {},
     "output_type": "display_data"
    }
   ],
   "source": [
    "with torch.no_grad():\n",
    "    # shift train predictions for plotting\n",
    "    y_pred = model(X_test).flatten()\n",
    "    actuals =y_test.flatten()\n",
    "    \n",
    "    y_pred = (y_pred*temp_std) + temp_mean\n",
    "    actuals = (actuals*temp_std) + temp_mean\n",
    "# plot\n",
    "plt.plot(actuals[:100], c='b', label = 'Actual')\n",
    "plt.plot(y_pred[:100], c='r', label = 'Predicted')\n",
    "plt.show()"
   ]
  },
  {
   "cell_type": "code",
   "execution_count": null,
   "metadata": {},
   "outputs": [],
   "source": []
  }
 ],
 "metadata": {
  "kernelspec": {
   "display_name": "Python 3.8.19 ('KD')",
   "language": "python",
   "name": "python3"
  },
  "language_info": {
   "codemirror_mode": {
    "name": "ipython",
    "version": 3
   },
   "file_extension": ".py",
   "mimetype": "text/x-python",
   "name": "python",
   "nbconvert_exporter": "python",
   "pygments_lexer": "ipython3",
   "version": "3.8.19"
  },
  "orig_nbformat": 4,
  "vscode": {
   "interpreter": {
    "hash": "5ef323d6f4b30dcf0326ea502360ce554ff8819b1aeee733c4f2d54796269e61"
   }
  }
 },
 "nbformat": 4,
 "nbformat_minor": 2
}
